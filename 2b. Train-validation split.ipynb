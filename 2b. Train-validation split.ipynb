{
 "cells": [
  {
   "cell_type": "code",
   "execution_count": 53,
   "metadata": {},
   "outputs": [],
   "source": [
    "import glob\n",
    "import os\n",
    "import ntpath\n",
    "import random\n",
    "import pandas as pd"
   ]
  },
  {
   "cell_type": "code",
   "execution_count": 54,
   "metadata": {},
   "outputs": [],
   "source": [
    "validation_size=0.05\n",
    "data_dir = 'data'\n",
    "train_dir = 'training'\n",
    "validation_dir = 'validation'"
   ]
  },
  {
   "cell_type": "code",
   "execution_count": 55,
   "metadata": {},
   "outputs": [],
   "source": [
    "if not os.path.exists(train_dir):\n",
    "    os.mkdir(train_dir)\n",
    "if not os.path.exists(validation_dir):\n",
    "    os.mkdir(validation_dir)"
   ]
  },
  {
   "cell_type": "code",
   "execution_count": 59,
   "metadata": {},
   "outputs": [
    {
     "name": "stdout",
     "output_type": "stream",
     "text": [
      "0\n",
      "100\n",
      "200\n",
      "300\n",
      "400\n",
      "500\n",
      "600\n",
      "700\n",
      "800\n",
      "900\n",
      "1000\n",
      "1100\n",
      "1200\n"
     ]
    }
   ],
   "source": [
    "for i, file_path in enumerate(glob.glob(os.path.join(data_dir, '*.txt'))):\n",
    "    file_name = ntpath.basename(file_path)\n",
    "    df = pd.read_csv(file_path, header=None)\n",
    "    \n",
    "    n_samples = len(df)\n",
    "    validation_idx = random.sample(range(n_samples), round(n_samples*validation_size))\n",
    "    train_idx = list(set(range(n_samples)) - set(validation_idx))\n",
    "    \n",
    "    df_train = df.loc[train_idx]\n",
    "    df_validation = df.loc[validation_idx]\n",
    "    \n",
    "    if len(df_train) > 0:\n",
    "        df_train.to_csv(os.path.join(train_dir, file_name), header=None, index=False)\n",
    "    if len(df_validation) > 0:\n",
    "        df_validation.to_csv(os.path.join(validation_dir, file_name), header=None, index=False)\n",
    "        \n",
    "    if i % 100 == 0:\n",
    "        print(i)"
   ]
  }
 ],
 "metadata": {
  "kernelspec": {
   "display_name": "Python 3",
   "language": "python",
   "name": "python3"
  },
  "language_info": {
   "codemirror_mode": {
    "name": "ipython",
    "version": 3
   },
   "file_extension": ".py",
   "mimetype": "text/x-python",
   "name": "python",
   "nbconvert_exporter": "python",
   "pygments_lexer": "ipython3",
   "version": "3.6.6"
  }
 },
 "nbformat": 4,
 "nbformat_minor": 2
}
