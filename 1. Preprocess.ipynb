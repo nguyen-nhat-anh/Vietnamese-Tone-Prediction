{
 "cells": [
  {
   "cell_type": "code",
   "execution_count": 1,
   "metadata": {},
   "outputs": [],
   "source": [
    "import re"
   ]
  },
  {
   "cell_type": "code",
   "execution_count": 2,
   "metadata": {},
   "outputs": [],
   "source": [
    "def remove_numbers_and_special_characters(unicode_line):\n",
    "    \"\"\"\n",
    "    Replace all characters not in 'vietnamese_alphabet' (numbers and special characters) with ' ' (a blank space)\n",
    "    \n",
    "    Args:\n",
    "        unicode_line: str\n",
    "    Returns:\n",
    "        str\n",
    "    \"\"\"\n",
    "    vietnamese_alphabet = 'a-záàảãạâấầẩẫậăắằẳẵặđéèẻẽẹêếềểễệíìỉĩịóòỏõọôốồổỗộơớờởỡợúùủũụưứừửữựýỳỷỹỵ'\n",
    "    pattern = '[^' + vietnamese_alphabet + ']'\n",
    "    alphabet_only_string = re.sub(pattern, ' ', unicode_line)\n",
    "    return ' '.join(alphabet_only_string.split())"
   ]
  },
  {
   "cell_type": "code",
   "execution_count": 3,
   "metadata": {},
   "outputs": [],
   "source": [
    "def process_line(unicode_line):\n",
    "    \"\"\"\n",
    "    1. Convert to lower case\n",
    "    2. Remove newline (\\n)\n",
    "    3. Remove numbers and special character\n",
    "     \n",
    "    Args:\n",
    "        unicode_line: str\n",
    "    Returns:\n",
    "        str\n",
    "    \"\"\"\n",
    "    line = unicode_line.lower()\n",
    "    line = line.strip('\\n')\n",
    "    return remove_numbers_and_special_characters(line)"
   ]
  },
  {
   "cell_type": "code",
   "execution_count": 5,
   "metadata": {},
   "outputs": [],
   "source": [
    "with open(\"train.txt\", \"r\", encoding='utf-8') as f_in, open(\"train_rm_special_chars.txt\", \"w\", encoding='utf-8') as f_out:\n",
    "    for line in f_in:\n",
    "        processed_line = process_line(line)\n",
    "        if processed_line: # check empty string\n",
    "            f_out.write(processed_line + '\\n')"
   ]
  }
 ],
 "metadata": {
  "kernelspec": {
   "display_name": "Python 3",
   "language": "python",
   "name": "python3"
  },
  "language_info": {
   "codemirror_mode": {
    "name": "ipython",
    "version": 3
   },
   "file_extension": ".py",
   "mimetype": "text/x-python",
   "name": "python",
   "nbconvert_exporter": "python",
   "pygments_lexer": "ipython3",
   "version": "3.6.6"
  }
 },
 "nbformat": 4,
 "nbformat_minor": 2
}
